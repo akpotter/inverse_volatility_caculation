{
 "cells": [
  {
   "cell_type": "code",
   "execution_count": 1,
   "metadata": {},
   "outputs": [],
   "source": [
    "from datetime import datetime, date\n",
    "import math\n",
    "import numpy as np\n",
    "import time\n",
    "import sys\n",
    "import requests\n",
    "import re\n",
    "from ortools.linear_solver import pywraplp\n",
    "\n",
    "# if len(sys.argv) == 1:\n",
    "#     symbols = ['UPRO', 'TMF']\n",
    "# else:\n",
    "#     symbols = sys.argv[1].split(',')\n",
    "#     for i in range(len(symbols)):\n",
    "#         symbols[i] = symbols[i].strip().upper()\n",
    "\n",
    "symbols = ['TMF', 'UPRO']\n",
    "num_trading_days_per_year = 252\n",
    "window_size = 20\n",
    "date_format = \"%Y-%m-%d\"\n",
    "end_timestamp = int(time.time())\n",
    "start_timestamp = int(end_timestamp - (1.4 * (window_size + 1) + 4) * 86400)"
   ]
  },
  {
   "cell_type": "code",
   "execution_count": 2,
   "metadata": {},
   "outputs": [],
   "source": [
    "def get_volatility_and_performance(symbol,cookie,crumb):\n",
    "    download_url = \"https://query1.finance.yahoo.com/v7/finance/download/{}?period1={}&period2={}&interval=1d&events=history&crumb={}\".format(symbol, start_timestamp, end_timestamp,crumb)\n",
    "    lines = requests.get(download_url, cookies={'B': cookie}).text.strip().split('\\n')\n",
    "#   print(cookie)\n",
    "#   print(crumb)\n",
    "#   print(lines)\n",
    "    assert lines[0].split(',')[0] == 'Date'\n",
    "    assert lines[0].split(',')[4] == 'Close'\n",
    "    prices = []\n",
    "    for line in lines[1:]:\n",
    "        prices.append(float(line.split(',')[4]))\n",
    "    prices.reverse()\n",
    "    volatilities_in_window = []\n",
    "\n",
    "    for i in range(window_size):\n",
    "        volatilities_in_window.append(math.log(prices[i] / prices[i+1]))\n",
    "        \n",
    "    most_recent_date = datetime.strptime(lines[-1].split(',')[0], date_format).date()\n",
    "    assert (date.today() - most_recent_date).days <= 4, \"today is {}, most recent trading day is {}\".format(date.today(), most_recent_date)\n",
    "\n",
    "    return np.std(volatilities_in_window, ddof = 1) * np.sqrt(num_trading_days_per_year), prices[0] / prices[window_size] - 1.0, prices[0]\n"
   ]
  },
  {
   "cell_type": "code",
   "execution_count": 3,
   "metadata": {},
   "outputs": [],
   "source": [
    "def get_cookie():\n",
    "    url = 'https://finance.yahoo.com/quote/VOO/history?p=VOO'\n",
    "    r = requests.get(url)\n",
    "    txt = r.text \n",
    "    cookie = r.cookies['B']\n",
    "    pattern = re.compile('.*\"CrumbStore\":\\{\"crumb\":\"(?P<crumb>[^\"]+)\"\\}')\n",
    "    for line in txt.splitlines():\n",
    "        m = pattern.match(line)\n",
    "        if m is not None:\n",
    "            crumb = m.groupdict()['crumb']        \n",
    "    return cookie,crumb"
   ]
  },
  {
   "cell_type": "code",
   "execution_count": 4,
   "metadata": {},
   "outputs": [
    {
     "name": "stdout",
     "output_type": "stream",
     "text": [
      "Portfolio: ['TMF', 'UPRO'], as of 2020-08-21 (window size is 20 days)\n",
      "TMF allocation ratio: 41.73% (anualized volatility: 37.17%, performance: -6.35%)\n",
      "UPRO allocation ratio: 58.27% (anualized volatility: 26.62%, performance: 17.97%)\n"
     ]
    }
   ],
   "source": [
    "#cookie,crumb=get_cookie()\n",
    "cookie='9mev4idf68vgk&b=3&s=g9'\n",
    "crumb='Xpr8Z7BQn4W'\n",
    "volatilities = []\n",
    "performances = []\n",
    "current_prices = []\n",
    "sum_inverse_volatility = 0.0\n",
    "for symbol in symbols:\n",
    "    volatility, performance, current_price = get_volatility_and_performance(symbol,cookie,crumb)\n",
    "    sum_inverse_volatility += 1 / volatility\n",
    "    volatilities.append(volatility)\n",
    "    performances.append(performance)\n",
    "    current_prices.append(current_price)\n",
    "\n",
    "alpha=1/(np.array(volatilities) * sum_inverse_volatility)\n",
    "print (\"Portfolio: {}, as of {} (window size is {} days)\".format(str(symbols), date.today().strftime('%Y-%m-%d'), window_size))\n",
    "for i in range(len(symbols)):\n",
    "    print ('{} allocation ratio: {:.2f}% (anualized volatility: {:.2f}%, performance: {:.2f}%)'.format(symbols[i], 100*(alpha[i]), float(volatilities[i] * 100), float(performances[i] * 100)))\n"
   ]
  },
  {
   "cell_type": "code",
   "execution_count": 5,
   "metadata": {},
   "outputs": [
    {
     "name": "stdout",
     "output_type": "stream",
     "text": [
      "Current TMF in taxable: 0\n",
      "Current UPRO in taxable: 0\n",
      "Current cash:10010\n",
      "Current TMF in IRA: 0\n",
      "Current UPRO in IRA: 0\n",
      "Current cash in IRA: 0\n"
     ]
    }
   ],
   "source": [
    "Tax_T=float(input(\"Current \"+symbols[0]+\" in taxable: \"))\n",
    "Tax_U=float(input(\"Current \"+symbols[1]+\" in taxable: \"))\n",
    "Tax_C=float(input(\"Current cash:\"))\n",
    "IRA_T=float(input(\"Current \"+symbols[0]+\" in IRA: \"))\n",
    "IRA_U=float(input(\"Current \"+symbols[1]+\" in IRA: \"))\n",
    "IRA_C=float(input(\"Current cash in IRA: \"))\n",
    "S_Tax=Tax_T+Tax_U+Tax_C\n",
    "S_IRA=IRA_T+IRA_U+IRA_C\n",
    "S=S_Tax+S_IRA"
   ]
  },
  {
   "cell_type": "code",
   "execution_count": 6,
   "metadata": {},
   "outputs": [],
   "source": [
    "def create_model(epsilon):\n",
    "    alpha[0]/alpha[1]\n",
    "    data={}\n",
    "    data['constraint_coeffs']=[\n",
    "        [current_prices[0],-(epsilon+alpha[0]/alpha[1])*current_prices[1],current_prices[0],-(epsilon+alpha[0]/alpha[1])*current_prices[1]],\n",
    "        [current_prices[0],-(alpha[0]/alpha[1]-epsilon)*current_prices[1],current_prices[0],-(alpha[0]/alpha[1]-epsilon)*current_prices[1]],\n",
    "        [current_prices[0],current_prices[1],current_prices[0],current_prices[1]],\n",
    "        [current_prices[0],current_prices[1],0,0],\n",
    "        [0,0,current_prices[0],current_prices[1]]\n",
    "    ]\n",
    "    data['lb']=[-np.inf, 0,0,0,0]\n",
    "    data['ub']=[0, np.inf,S,S_Tax,S_IRA]\n",
    "    data['obj_coeffs']=[current_prices[0],current_prices[1],current_prices[0],current_prices[1]]\n",
    "    data['xub']=[np.floor(S_Tax/current_prices[0]),np.floor(S_Tax/current_prices[1]),np.floor(S_IRA/current_prices[0]),np.floor(S_IRA/current_prices[1])]\n",
    "    data['num_vars']=len(data['obj_coeffs'])\n",
    "    data['num_constraints']=len(data['constraint_coeffs'])                                        \n",
    "    return data     "
   ]
  },
  {
   "cell_type": "code",
   "execution_count": 7,
   "metadata": {},
   "outputs": [],
   "source": [
    "data = create_model(0.01)"
   ]
  },
  {
   "cell_type": "code",
   "execution_count": 8,
   "metadata": {},
   "outputs": [],
   "source": [
    "solver = pywraplp.Solver.CreateSolver('simple_mip_program', 'CBC')"
   ]
  },
  {
   "cell_type": "code",
   "execution_count": 9,
   "metadata": {},
   "outputs": [],
   "source": [
    "infinity = solver.infinity()"
   ]
  },
  {
   "cell_type": "code",
   "execution_count": 10,
   "metadata": {},
   "outputs": [],
   "source": [
    "x={}"
   ]
  },
  {
   "cell_type": "code",
   "execution_count": 11,
   "metadata": {},
   "outputs": [],
   "source": [
    "for j in range(data['num_vars']):\n",
    "    x[j] = solver.IntVar(0, data['xub'][i], 'x[%i]' % j)"
   ]
  },
  {
   "cell_type": "code",
   "execution_count": 12,
   "metadata": {},
   "outputs": [
    {
     "name": "stdout",
     "output_type": "stream",
     "text": [
      "Number of constraints = 5\n"
     ]
    }
   ],
   "source": [
    "for i in range(data['num_constraints']):\n",
    "    constraint = solver.RowConstraint(data['lb'][i], data['ub'][i], '')\n",
    "    for j in range(data['num_vars']):\n",
    "        constraint.SetCoefficient(x[j], data['constraint_coeffs'][i][j])\n",
    "print('Number of constraints =', solver.NumConstraints())"
   ]
  },
  {
   "cell_type": "code",
   "execution_count": 13,
   "metadata": {},
   "outputs": [],
   "source": [
    "objective = solver.Objective()"
   ]
  },
  {
   "cell_type": "code",
   "execution_count": 14,
   "metadata": {},
   "outputs": [],
   "source": [
    "for j in range(data['num_vars']):\n",
    "    objective.SetCoefficient(x[j], data['obj_coeffs'][j])\n",
    "objective.SetMaximization()"
   ]
  },
  {
   "cell_type": "code",
   "execution_count": 15,
   "metadata": {},
   "outputs": [],
   "source": [
    "status = solver.Solve()"
   ]
  },
  {
   "cell_type": "code",
   "execution_count": 16,
   "metadata": {},
   "outputs": [
    {
     "data": {
      "text/plain": [
       "0"
      ]
     },
     "execution_count": 16,
     "metadata": {},
     "output_type": "execute_result"
    }
   ],
   "source": [
    "status"
   ]
  },
  {
   "cell_type": "code",
   "execution_count": 17,
   "metadata": {},
   "outputs": [
    {
     "name": "stdout",
     "output_type": "stream",
     "text": [
      "Objective value = 10003.3601\n",
      "x[0]  =  98.0\n",
      "x[1]  =  100.0\n",
      "x[2]  =  0.0\n",
      "x[3]  =  0.0\n",
      "\n",
      "Cash in Taxable 6.639900\n",
      "Cash in IRA 0.000000\n",
      "Relative weight TMF/UPRO: (41.46%/58.54%), target (41.73%/58.27%)\n",
      "Problem solved in 7042.000000 milliseconds\n",
      "Problem solved in 4 iterations\n",
      "Problem solved in 0 branch-and-bound nodes\n"
     ]
    }
   ],
   "source": [
    "if status == pywraplp.Solver.OPTIMAL:\n",
    "    print('Objective value =', solver.Objective().Value())\n",
    "    for j in range(data['num_vars']):\n",
    "      print(x[j].name(), ' = ', x[j].solution_value())\n",
    "    print()\n",
    "    Tax_C2=S_Tax-x[0].solution_value()*current_prices[0]-x[1].solution_value()*current_prices[1]\n",
    "    IRA_C2=S_IRA-x[2].solution_value()*current_prices[0]-x[3].solution_value()*current_prices[1]\n",
    "    S_T2=(x[0].solution_value()+x[2].solution_value())*current_prices[0]\n",
    "    S_U2=(x[1].solution_value()+x[3].solution_value())*current_prices[1]\n",
    "    \n",
    "    print('Cash in Taxable %f' % Tax_C2)\n",
    "    print('Cash in IRA %f' % IRA_C2) \n",
    "    print('Relative weight TMF/UPRO: ({:.2f}%/{:.2f}%), target ({:.2f}%/{:.2f}%)'.format(100*S_T2/(S_T2+S_U2),100*S_U2/(S_T2+S_U2),100*alpha[0],100*alpha[1]))\n",
    "    print('Problem solved in %f milliseconds' % solver.wall_time())\n",
    "    print('Problem solved in %d iterations' % solver.iterations())\n",
    "    print('Problem solved in %d branch-and-bound nodes' % solver.nodes())\n",
    "    \n",
    "else:\n",
    "    print('The problem does not have an optimal solution.')"
   ]
  },
  {
   "cell_type": "code",
   "execution_count": 18,
   "metadata": {},
   "outputs": [
    {
     "data": {
      "text/plain": [
       "58.54033086342658"
      ]
     },
     "execution_count": 18,
     "metadata": {},
     "output_type": "execute_result"
    }
   ],
   "source": [
    " 100*S_U2/(S_T2+S_U2)"
   ]
  },
  {
   "cell_type": "code",
   "execution_count": 30,
   "metadata": {},
   "outputs": [
    {
     "data": {
      "text/plain": [
       "38.469596078650774"
      ]
     },
     "execution_count": 30,
     "metadata": {},
     "output_type": "execute_result"
    }
   ],
   "source": [
    " 100*S_T2/(S_T2+S_U2)"
   ]
  },
  {
   "cell_type": "code",
   "execution_count": 24,
   "metadata": {},
   "outputs": [
    {
     "data": {
      "text/plain": [
       "0.7167775418290756"
      ]
     },
     "execution_count": 24,
     "metadata": {},
     "output_type": "execute_result"
    }
   ],
   "source": [
    "alpha[0]/alpha[1]"
   ]
  },
  {
   "cell_type": "code",
   "execution_count": 28,
   "metadata": {},
   "outputs": [
    {
     "data": {
      "text/plain": [
       "-557.269148518058"
      ]
     },
     "execution_count": 28,
     "metadata": {},
     "output_type": "execute_result"
    }
   ],
   "source": [
    "current_prices[0]*x[0].solution_value()-(alpha[0]/alpha[1])*current_prices[1]*x[1].solution_value()"
   ]
  },
  {
   "cell_type": "code",
   "execution_count": 30,
   "metadata": {},
   "outputs": [
    {
     "data": {
      "text/plain": [
       "921.4808514819424"
      ]
     },
     "execution_count": 30,
     "metadata": {},
     "output_type": "execute_result"
    }
   ],
   "source": [
    "current_prices[1]*x[0].solution_value()-(alpha[0]/alpha[1])*current_prices[1]*x[1].solution_value()"
   ]
  },
  {
   "cell_type": "code",
   "execution_count": 36,
   "metadata": {},
   "outputs": [
    {
     "data": {
      "text/plain": [
       "{'constraint_coeffs': [[42.310001,\n",
       "   -42.641505452379725,\n",
       "   42.310001,\n",
       "   -42.641505452379725],\n",
       "  [58.649899, -41.46850747237972, 42.310001, -41.46850747237972],\n",
       "  [42.310001, 58.649899, 42.310001, 58.649899],\n",
       "  [42.310001, 58.649899, 0, 0],\n",
       "  [0, 0, 42.310001, 58.649899]],\n",
       " 'lb': [-inf, 0, 0, 0, 0],\n",
       " 'ub': [0, inf, 10010.0, 10010.0, 0.0],\n",
       " 'obj_coeffs': [42.310001, 58.649899, 42.310001, 58.649899],\n",
       " 'xub': [236.0, 170.0, 0.0, 0.0],\n",
       " 'num_vars': 4,\n",
       " 'num_constraints': 5}"
      ]
     },
     "execution_count": 36,
     "metadata": {},
     "output_type": "execute_result"
    }
   ],
   "source": [
    "data"
   ]
  },
  {
   "cell_type": "code",
   "execution_count": 32,
   "metadata": {},
   "outputs": [],
   "source": [
    "x0=np.floor(S*alpha[0]/current_prices[0])"
   ]
  },
  {
   "cell_type": "code",
   "execution_count": 33,
   "metadata": {},
   "outputs": [],
   "source": [
    "x1=np.floor(S*alpha[1]/current_prices[1])"
   ]
  },
  {
   "cell_type": "code",
   "execution_count": 168,
   "metadata": {},
   "outputs": [
    {
     "data": {
      "text/plain": [
       "9949.510197"
      ]
     },
     "execution_count": 168,
     "metadata": {},
     "output_type": "execute_result"
    }
   ],
   "source": [
    "np.floor(S*alpha[0]/current_prices[0])*current_prices[0]+np.floor(S*alpha[1]/current_prices[1])*current_prices[1]"
   ]
  },
  {
   "cell_type": "code",
   "execution_count": 169,
   "metadata": {},
   "outputs": [
    {
     "data": {
      "text/plain": [
       "4179.7800990000005"
      ]
     },
     "execution_count": 169,
     "metadata": {},
     "output_type": "execute_result"
    }
   ],
   "source": [
    "x0*current_prices[0]"
   ]
  },
  {
   "cell_type": "code",
   "execution_count": 170,
   "metadata": {},
   "outputs": [
    {
     "data": {
      "text/plain": [
       "5769.730098"
      ]
     },
     "execution_count": 170,
     "metadata": {},
     "output_type": "execute_result"
    }
   ],
   "source": [
    "(x1)*current_prices[1]"
   ]
  },
  {
   "cell_type": "code",
   "execution_count": 173,
   "metadata": {},
   "outputs": [
    {
     "data": {
      "text/plain": [
       "9949.510197"
      ]
     },
     "execution_count": 173,
     "metadata": {},
     "output_type": "execute_result"
    }
   ],
   "source": [
    "x0*current_prices[0]+(x1)*current_prices[1]"
   ]
  },
  {
   "cell_type": "code",
   "execution_count": 172,
   "metadata": {},
   "outputs": [
    {
     "data": {
      "text/plain": [
       "10010.0"
      ]
     },
     "execution_count": 172,
     "metadata": {},
     "output_type": "execute_result"
    }
   ],
   "source": [
    "S"
   ]
  },
  {
   "cell_type": "code",
   "execution_count": 176,
   "metadata": {},
   "outputs": [
    {
     "data": {
      "text/plain": [
       "99.78336408601366"
      ]
     },
     "execution_count": 176,
     "metadata": {},
     "output_type": "execute_result"
    }
   ],
   "source": [
    "10000*alpha[1]/current_prices[1]"
   ]
  },
  {
   "cell_type": "code",
   "execution_count": 34,
   "metadata": {},
   "outputs": [
    {
     "data": {
      "text/plain": [
       "98.0"
      ]
     },
     "execution_count": 34,
     "metadata": {},
     "output_type": "execute_result"
    }
   ],
   "source": [
    "x0"
   ]
  },
  {
   "cell_type": "code",
   "execution_count": 35,
   "metadata": {},
   "outputs": [
    {
     "data": {
      "text/plain": [
       "99.0"
      ]
     },
     "execution_count": 35,
     "metadata": {},
     "output_type": "execute_result"
    }
   ],
   "source": [
    "x1"
   ]
  },
  {
   "cell_type": "code",
   "execution_count": null,
   "metadata": {},
   "outputs": [],
   "source": []
  }
 ],
 "metadata": {
  "kernelspec": {
   "display_name": "Python 3",
   "language": "python",
   "name": "python3"
  },
  "language_info": {
   "codemirror_mode": {
    "name": "ipython",
    "version": 3
   },
   "file_extension": ".py",
   "mimetype": "text/x-python",
   "name": "python",
   "nbconvert_exporter": "python",
   "pygments_lexer": "ipython3",
   "version": "3.7.6"
  }
 },
 "nbformat": 4,
 "nbformat_minor": 4
}
