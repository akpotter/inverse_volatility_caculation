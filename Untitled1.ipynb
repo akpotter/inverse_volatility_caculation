{
 "cells": [
  {
   "cell_type": "code",
   "execution_count": 8,
   "metadata": {},
   "outputs": [
    {
     "name": "stdout",
     "output_type": "stream",
     "text": [
      "Number of variables = 5\n",
      "Number of constraints = 4\n",
      "Objective value = 266.9\n",
      "x[0]  =  9.0\n",
      "x[1]  =  20.0\n",
      "x[2]  =  2.0\n",
      "x[3]  =  1.0\n",
      "x[4]  =  4.0\n",
      "\n",
      "Problem solved in 38.000000 milliseconds\n",
      "Problem solved in 440 iterations\n",
      "Problem solved in 34 branch-and-bound nodes\n"
     ]
    }
   ],
   "source": [
    "from __future__ import print_function\n",
    "from ortools.linear_solver import pywraplp\n",
    "def create_data_model():\n",
    "  \"\"\"Stores the data for the problem.\"\"\"\n",
    "  data = {}\n",
    "  data['constraint_coeffs'] = [\n",
    "      [5.1, 7.1, 9.1, 2.1, 1.1],\n",
    "      [18, 4, -9, 10, 12],\n",
    "      [4, 7, 3, 8, 5],\n",
    "      [5, 13, 16, 3, -7],\n",
    "  ]\n",
    "  data['bounds'] = [250.1, 285.1, 211.1, 315.2]\n",
    "  data['obj_coeffs'] = [7.3, 8.2, 2.1, 9, 6]\n",
    "  data['num_vars'] = 5\n",
    "  data['num_constraints'] = 4\n",
    "  return data\n",
    "\n",
    "\n",
    "def main():\n",
    "  data = create_data_model()\n",
    "  # Create the mip solver with the CBC backend.\n",
    "  solver = pywraplp.Solver.CreateSolver('simple_mip_program', 'CBC')\n",
    "  infinity = solver.infinity()\n",
    "  x = {}\n",
    "  for j in range(data['num_vars']):\n",
    "    x[j] = solver.IntVar(0, infinity, 'x[%i]' % j)\n",
    "  print('Number of variables =', solver.NumVariables())\n",
    "\n",
    "  for i in range(data['num_constraints']):\n",
    "    constraint = solver.RowConstraint(0, data['bounds'][i], '')\n",
    "    for j in range(data['num_vars']):\n",
    "      constraint.SetCoefficient(x[j], data['constraint_coeffs'][i][j])\n",
    "  print('Number of constraints =', solver.NumConstraints())\n",
    "  # In Python, you can also set the constraints as follows.\n",
    "  # for i in range(data['num_constraints']):\n",
    "  #  constraint_expr = \\\n",
    "  # [data['constraint_coeffs'][i][j] * x[j] for j in range(data['num_vars'])]\n",
    "  #  solver.Add(sum(constraint_expr) <= data['bounds'][i])\n",
    "\n",
    "  objective = solver.Objective()\n",
    "  for j in range(data['num_vars']):\n",
    "    objective.SetCoefficient(x[j], data['obj_coeffs'][j])\n",
    "  objective.SetMaximization()\n",
    "  # In Python, you can also set the objective as follows.\n",
    "  # obj_expr = [data['obj_coeffs'][j] * x[j] for j in range(data['num_vars'])]\n",
    "  # solver.Maximize(solver.Sum(obj_expr))\n",
    "\n",
    "  status = solver.Solve()\n",
    "\n",
    "  if status == pywraplp.Solver.OPTIMAL:\n",
    "    print('Objective value =', solver.Objective().Value())\n",
    "    for j in range(data['num_vars']):\n",
    "      print(x[j].name(), ' = ', x[j].solution_value())\n",
    "    print()\n",
    "    print('Problem solved in %f milliseconds' % solver.wall_time())\n",
    "    print('Problem solved in %d iterations' % solver.iterations())\n",
    "    print('Problem solved in %d branch-and-bound nodes' % solver.nodes())\n",
    "  else:\n",
    "    print('The problem does not have an optimal solution.')\n",
    "\n",
    "\n",
    "if __name__ == '__main__':\n",
    "  main()\n",
    " "
   ]
  },
  {
   "cell_type": "code",
   "execution_count": null,
   "metadata": {},
   "outputs": [],
   "source": []
  }
 ],
 "metadata": {
  "kernelspec": {
   "display_name": "Python 3",
   "language": "python",
   "name": "python3"
  },
  "language_info": {
   "codemirror_mode": {
    "name": "ipython",
    "version": 3
   },
   "file_extension": ".py",
   "mimetype": "text/x-python",
   "name": "python",
   "nbconvert_exporter": "python",
   "pygments_lexer": "ipython3",
   "version": "3.7.6"
  }
 },
 "nbformat": 4,
 "nbformat_minor": 4
}
