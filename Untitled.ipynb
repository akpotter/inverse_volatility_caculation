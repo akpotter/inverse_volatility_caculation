{
 "cells": [
  {
   "cell_type": "code",
   "execution_count": 1,
   "metadata": {},
   "outputs": [],
   "source": [
    "from datetime import datetime, date\n",
    "import math\n",
    "import numpy as np\n",
    "import time\n",
    "import sys\n",
    "import requests\n",
    "import re\n",
    "from ortools.linear_solver import pywraplp\n",
    "\n",
    "# if len(sys.argv) == 1:\n",
    "#     symbols = ['UPRO', 'TMF']\n",
    "# else:\n",
    "#     symbols = sys.argv[1].split(',')\n",
    "#     for i in range(len(symbols)):\n",
    "#         symbols[i] = symbols[i].strip().upper()\n",
    "\n",
    "symbols = ['TMF', 'UPRO']\n",
    "num_trading_days_per_year = 252\n",
    "window_size = 20\n",
    "date_format = \"%Y-%m-%d\"\n",
    "end_timestamp = int(time.time())\n",
    "start_timestamp = int(end_timestamp - (1.4 * (window_size + 1) + 4) * 86400)"
   ]
  },
  {
   "cell_type": "code",
   "execution_count": 2,
   "metadata": {},
   "outputs": [],
   "source": [
    "def get_volatility_and_performance(symbol,cookie,crumb):\n",
    "    download_url = \"https://query1.finance.yahoo.com/v7/finance/download/{}?period1={}&period2={}&interval=1d&events=history&crumb={}\".format(symbol, start_timestamp, end_timestamp,crumb)\n",
    "    lines = requests.get(download_url, cookies={'B': cookie}).text.strip().split('\\n')\n",
    "#   print(cookie)\n",
    "#   print(crumb)\n",
    "#   print(lines)\n",
    "    assert lines[0].split(',')[0] == 'Date'\n",
    "    assert lines[0].split(',')[4] == 'Close'\n",
    "    prices = []\n",
    "    for line in lines[1:]:\n",
    "        prices.append(float(line.split(',')[4]))\n",
    "    prices.reverse()\n",
    "    volatilities_in_window = []\n",
    "\n",
    "    for i in range(window_size):\n",
    "        volatilities_in_window.append(math.log(prices[i] / prices[i+1]))\n",
    "        \n",
    "    most_recent_date = datetime.strptime(lines[-1].split(',')[0], date_format).date()\n",
    "    assert (date.today() - most_recent_date).days <= 4, \"today is {}, most recent trading day is {}\".format(date.today(), most_recent_date)\n",
    "\n",
    "    return np.std(volatilities_in_window, ddof = 1) * np.sqrt(num_trading_days_per_year), prices[0] / prices[window_size] - 1.0, prices[0]\n"
   ]
  },
  {
   "cell_type": "code",
   "execution_count": 3,
   "metadata": {},
   "outputs": [],
   "source": [
    "def get_cookie():\n",
    "    url = 'https://finance.yahoo.com/quote/VOO/history?p=VOO'\n",
    "    r = requests.get(url)\n",
    "    txt = r.text \n",
    "    cookie = r.cookies['B']\n",
    "    pattern = re.compile('.*\"CrumbStore\":\\{\"crumb\":\"(?P<crumb>[^\"]+)\"\\}')\n",
    "    for line in txt.splitlines():\n",
    "        m = pattern.match(line)\n",
    "        if m is not None:\n",
    "            crumb = m.groupdict()['crumb']        \n",
    "    return cookie,crumb"
   ]
  },
  {
   "cell_type": "code",
   "execution_count": 9,
   "metadata": {},
   "outputs": [],
   "source": [
    "def get_data():\n",
    "    #cookie,crumb=get_cookie()\n",
    "    cookie='9mev4idf68vgk&b=3&s=g9'\n",
    "    crumb='Xpr8Z7BQn4W'\n",
    "    volatilities = []\n",
    "    performances = []\n",
    "    current_prices = []\n",
    "    sum_inverse_volatility = 0.0\n",
    "    for symbol in symbols:\n",
    "        volatility, performance, current_price = get_volatility_and_performance(symbol,cookie,crumb)\n",
    "        sum_inverse_volatility += 1 / volatility\n",
    "        volatilities.append(volatility)\n",
    "        performances.append(performance)\n",
    "        current_prices.append(current_price)\n",
    "\n",
    "    alpha=1/(np.array(volatilities) * sum_inverse_volatility)\n",
    "    print (\"Portfolio: {}, as of {} (window size is {} days)\".format(str(symbols), date.today().strftime('%Y-%m-%d'), window_size))\n",
    "    for i in range(len(symbols)):\n",
    "        print ('{} allocation ratio: {:.2f}% (anualized volatility: {:.2f}%, performance: {:.2f}%)'.format(symbols[i], 100*(alpha[i]), float(volatilities[i] * 100), float(performances[i] * 100)))\n",
    "    return alpha,current_prices"
   ]
  },
  {
   "cell_type": "code",
   "execution_count": 5,
   "metadata": {},
   "outputs": [],
   "source": [
    "def get_input(current_prices):\n",
    "    N_Tax_T=float(input(\"Current shares of \"+symbols[0]+\" in taxable: \"))\n",
    "    N_Tax_U=float(input(\"Current shares of \"+symbols[1]+\" in taxable: \"))\n",
    "    Tax_C=float(input(\"Current cash: \"))\n",
    "    N_IRA_T=float(input(\"Current shares of \"+symbols[0]+\" in IRA: \"))\n",
    "    N_IRA_U=float(input(\"Current shares of \"+symbols[1]+\" in IRA: \"))\n",
    "    IRA_C=float(input(\"Current cash in IRA: \"))\n",
    "\n",
    "    Tax_T=N_Tax_T*current_prices[0]\n",
    "    Tax_U=N_Tax_U*current_prices[1]\n",
    "    IRA_T=N_IRA_T*current_prices[0]\n",
    "    IRA_U=N_IRA_U*current_prices[1]\n",
    "    S_Tax=Tax_T+Tax_U+Tax_C\n",
    "    S_IRA=IRA_T+IRA_U+IRA_C\n",
    "    S=S_Tax+S_IRA"
   ]
  },
  {
   "cell_type": "code",
   "execution_count": 23,
   "metadata": {},
   "outputs": [],
   "source": [
    "def create_model(epsilon=0.01):\n",
    "    alpha[0]/alpha[1]\n",
    "    data={}\n",
    "    data['constraint_coeffs']=[\n",
    "        [current_prices[0],-(epsilon+alpha[0]/alpha[1])*current_prices[1],current_prices[0],-(epsilon+alpha[0]/alpha[1])*current_prices[1]],\n",
    "        [current_prices[0],-(alpha[0]/alpha[1]-epsilon)*current_prices[1],current_prices[0],-(alpha[0]/alpha[1]-epsilon)*current_prices[1]],\n",
    "        [current_prices[0],current_prices[1],current_prices[0],current_prices[1]],\n",
    "        [current_prices[0],current_prices[1],0,0],\n",
    "        [0,0,current_prices[0],current_prices[1]],\n",
    "        [1,0,0,0],\n",
    "        [0,1,0,0]\n",
    "    ]\n",
    "    data['lb']=[-np.inf, 0,0,0,0,N_Tax_T,N_Tax_U]\n",
    "    data['ub']=[0, np.inf,S,S_Tax,S_IRA,np.inf,np.inf]\n",
    "    data['obj_coeffs']=[current_prices[0],current_prices[1],current_prices[0],current_prices[1]]\n",
    "    data['xub']=[np.floor(S_Tax/current_prices[0]),np.floor(S_Tax/current_prices[1]),np.floor(S_IRA/current_prices[0]),np.floor(S_IRA/current_prices[1])]\n",
    "    data['num_vars']=len(data['obj_coeffs'])\n",
    "    data['num_constraints']=len(data['constraint_coeffs'])                                        \n",
    "    return data     "
   ]
  },
  {
   "cell_type": "code",
   "execution_count": 33,
   "metadata": {},
   "outputs": [
    {
     "name": "stdout",
     "output_type": "stream",
     "text": [
      "Portfolio: ['TMF', 'UPRO'], as of 2020-08-21 (window size is 20 days)\n",
      "TMF allocation ratio: 41.73% (anualized volatility: 37.17%, performance: -6.35%)\n",
      "UPRO allocation ratio: 58.27% (anualized volatility: 26.62%, performance: 17.97%)\n",
      "Current shares of TMF in taxable: 0\n",
      "Current shares of UPRO in taxable: 0\n",
      "Current cash: 0\n",
      "Current shares of TMF in IRA: 10\n",
      "Current shares of UPRO in IRA: 10\n",
      "Current cash in IRA: 0\n",
      "----------result----------\n",
      "Cash in Taxable 0.000000\n",
      "Cash in IRA -0.000000\n",
      "Achievable balance of TMF/UPRO: (41.95%/58.05%), target (41.73%/58.27%)\n",
      "----------action----------\n",
      "buy TMF in Taxable: 0 at price 42.32\n",
      "buy UPRO in Taxable: 0 at price 58.560001\n",
      "buy TMF in IRA: 0 at price 42.32\n",
      "buy UPRO in IRA: 0 at price 58.560001\n"
     ]
    }
   ],
   "source": [
    "    alpha,current_prices=get_data()\n",
    "    \n",
    "    N_Tax_T=float(input(\"Current shares of \"+symbols[0]+\" in taxable: \"))\n",
    "    N_Tax_U=float(input(\"Current shares of \"+symbols[1]+\" in taxable: \"))\n",
    "    Tax_C=float(input(\"Current cash: \"))\n",
    "    N_IRA_T=float(input(\"Current shares of \"+symbols[0]+\" in IRA: \"))\n",
    "    N_IRA_U=float(input(\"Current shares of \"+symbols[1]+\" in IRA: \"))\n",
    "    IRA_C=float(input(\"Current cash in IRA: \"))\n",
    "\n",
    "    Tax_T=N_Tax_T*current_prices[0]\n",
    "    Tax_U=N_Tax_U*current_prices[1]\n",
    "    IRA_T=N_IRA_T*current_prices[0]\n",
    "    IRA_U=N_IRA_U*current_prices[1]\n",
    "    S_Tax=Tax_T+Tax_U+Tax_C\n",
    "    S_IRA=IRA_T+IRA_U+IRA_C\n",
    "    S=S_Tax+S_IRA\n",
    "    \n",
    "    data = create_model()\n",
    "    solver = pywraplp.Solver.CreateSolver('simple_mip_program', 'CBC')\n",
    "    x={}\n",
    "    for j in range(data['num_vars']):\n",
    "        x[j] = solver.IntVar(0, data['xub'][j], 'x[%i]' % j)\n",
    "    for i in range(data['num_constraints']):\n",
    "        constraint = solver.RowConstraint(data['lb'][i], data['ub'][i], '')\n",
    "        for j in range(data['num_vars']):\n",
    "            constraint.SetCoefficient(x[j], data['constraint_coeffs'][i][j])\n",
    "    objective = solver.Objective()\n",
    "    for j in range(data['num_vars']):\n",
    "        objective.SetCoefficient(x[j], data['obj_coeffs'][j])\n",
    "    objective.SetMaximization()\n",
    "    status = solver.Solve()\n",
    "    if status == pywraplp.Solver.OPTIMAL:\n",
    "#         print('Objective value =', solver.Objective().Value())\n",
    "#         for j in range(data['num_vars']):\n",
    "#             print(x[j].name(), ' = ', x[j].solution_value())\n",
    "        N_Tax_T2=x[0].solution_value()\n",
    "        N_Tax_U2=x[1].solution_value()\n",
    "        N_IRA_T2=x[2].solution_value()\n",
    "        N_IRA_U2=x[3].solution_value()\n",
    "        \n",
    "        print('-'*10+'result'+'-'*10)\n",
    "        Tax_C2=S_Tax-N_Tax_T2*current_prices[0]-N_Tax_U2*current_prices[1]\n",
    "        IRA_C2=S_IRA-N_IRA_T2*current_prices[0]-N_IRA_U2*current_prices[1]\n",
    "        S_T2=(N_Tax_T2+N_IRA_T2)*current_prices[0]\n",
    "        S_U2=(N_Tax_U2+N_IRA_U2)*current_prices[1]\n",
    "\n",
    "        print('Cash in Taxable %f' % Tax_C2)\n",
    "        print('Cash in IRA %f' % IRA_C2) \n",
    "        print('Achievable balance of TMF/UPRO: ({:.2f}%/{:.2f}%), target ({:.2f}%/{:.2f}%)'.format(100*S_T2/(S_T2+S_U2),100*S_U2/(S_T2+S_U2),100*alpha[0],100*alpha[1]))\n",
    "#         print('Problem solved in %f milliseconds' % solver.wall_time())\n",
    "#         print('Problem solved in %d iterations' % solver.iterations())\n",
    "#         print('Problem solved in %d branch-and-bound nodes' % solver.nodes())\n",
    "        print('-'*10+'action'+'-'*10)\n",
    "        print(('buy'*(N_Tax_T2-N_Tax_T>=0)+'sell'*(N_Tax_T2-N_Tax_T<0))+' TMF in Taxable: '+str(int(abs(N_Tax_T2-N_Tax_T)))+' at price '+str(current_prices[0]))\n",
    "        print(('buy'*(N_Tax_U2-N_Tax_U>=0)+'sell'*(N_Tax_U2-N_Tax_U<0))+' UPRO in Taxable: '+str(int(abs(N_Tax_U2-N_Tax_U)))+' at price '+str(current_prices[1]))\n",
    "        print(('buy'*(N_IRA_T2-N_IRA_T>=0)+'sell'*(N_IRA_T2-N_IRA_T<0))+' TMF in IRA: '+str(int(abs(N_IRA_T2-N_IRA_T)))+' at price '+str(current_prices[0]))\n",
    "        print(('buy'*(N_IRA_U2-N_IRA_U>=0)+'sell'*(N_IRA_U2-N_IRA_U<0))+' UPRO in IRA: '+str(int(abs(N_IRA_U2-N_IRA_U)))+' at price '+str(current_prices[1]))\n",
    "    else:\n",
    "        print('The problem does not have an optimal solution.')"
   ]
  },
  {
   "cell_type": "code",
   "execution_count": 31,
   "metadata": {},
   "outputs": [
    {
     "name": "stdout",
     "output_type": "stream",
     "text": [
      "Portfolio: ['TMF', 'UPRO'], as of 2020-08-21 (window size is 20 days)\n",
      "TMF allocation ratio: 41.73% (anualized volatility: 37.17%, performance: -6.35%)\n",
      "UPRO allocation ratio: 58.27% (anualized volatility: 26.62%, performance: 17.97%)\n",
      "Current shares of TMF in taxable: 0\n",
      "Current shares of UPRO in taxable: 0\n",
      "Current cash: 0\n",
      "Current shares of TMF in IRA: 130\n",
      "Current shares of UPRO in IRA: 94\n",
      "Current cash in IRA: 0\n"
     ]
    },
    {
     "ename": "TypeError",
     "evalue": "create_model() takes from 0 to 1 positional arguments but 3 were given",
     "output_type": "error",
     "traceback": [
      "\u001b[0;31m---------------------------------------------------------------------------\u001b[0m",
      "\u001b[0;31mTypeError\u001b[0m                                 Traceback (most recent call last)",
      "\u001b[0;32m<ipython-input-31-3f8b60364efe>\u001b[0m in \u001b[0;36m<module>\u001b[0;34m\u001b[0m\n\u001b[0;32m----> 1\u001b[0;31m \u001b[0mmain\u001b[0m\u001b[0;34m(\u001b[0m\u001b[0;36m0.01\u001b[0m\u001b[0;34m)\u001b[0m\u001b[0;34m\u001b[0m\u001b[0;34m\u001b[0m\u001b[0m\n\u001b[0m",
      "\u001b[0;32m<ipython-input-21-c30fb6c266b1>\u001b[0m in \u001b[0;36mmain\u001b[0;34m(epsilon)\u001b[0m\n\u001b[1;32m     17\u001b[0m     \u001b[0mS\u001b[0m\u001b[0;34m=\u001b[0m\u001b[0mS_Tax\u001b[0m\u001b[0;34m+\u001b[0m\u001b[0mS_IRA\u001b[0m\u001b[0;34m\u001b[0m\u001b[0;34m\u001b[0m\u001b[0m\n\u001b[1;32m     18\u001b[0m \u001b[0;34m\u001b[0m\u001b[0m\n\u001b[0;32m---> 19\u001b[0;31m     \u001b[0mdata\u001b[0m \u001b[0;34m=\u001b[0m \u001b[0mcreate_model\u001b[0m\u001b[0;34m(\u001b[0m\u001b[0mepsilon\u001b[0m\u001b[0;34m,\u001b[0m\u001b[0mcurrent_prices\u001b[0m\u001b[0;34m,\u001b[0m\u001b[0malpha\u001b[0m\u001b[0;34m)\u001b[0m\u001b[0;34m\u001b[0m\u001b[0;34m\u001b[0m\u001b[0m\n\u001b[0m\u001b[1;32m     20\u001b[0m     \u001b[0msolver\u001b[0m \u001b[0;34m=\u001b[0m \u001b[0mpywraplp\u001b[0m\u001b[0;34m.\u001b[0m\u001b[0mSolver\u001b[0m\u001b[0;34m.\u001b[0m\u001b[0mCreateSolver\u001b[0m\u001b[0;34m(\u001b[0m\u001b[0;34m'simple_mip_program'\u001b[0m\u001b[0;34m,\u001b[0m \u001b[0;34m'CBC'\u001b[0m\u001b[0;34m)\u001b[0m\u001b[0;34m\u001b[0m\u001b[0;34m\u001b[0m\u001b[0m\n\u001b[1;32m     21\u001b[0m     \u001b[0mx\u001b[0m\u001b[0;34m=\u001b[0m\u001b[0;34m{\u001b[0m\u001b[0;34m}\u001b[0m\u001b[0;34m\u001b[0m\u001b[0;34m\u001b[0m\u001b[0m\n",
      "\u001b[0;31mTypeError\u001b[0m: create_model() takes from 0 to 1 positional arguments but 3 were given"
     ]
    }
   ],
   "source": [
    "main(0.01)"
   ]
  },
  {
   "cell_type": "code",
   "execution_count": 13,
   "metadata": {},
   "outputs": [
    {
     "name": "stdout",
     "output_type": "stream",
     "text": [
      "Portfolio: ['TMF', 'UPRO'], as of 2020-08-21 (window size is 20 days)\n",
      "TMF allocation ratio: 41.73% (anualized volatility: 37.17%, performance: -6.35%)\n",
      "UPRO allocation ratio: 58.27% (anualized volatility: 26.62%, performance: 17.97%)\n"
     ]
    }
   ],
   "source": [
    "zz1,zz2=get_data()"
   ]
  },
  {
   "cell_type": "code",
   "execution_count": 14,
   "metadata": {},
   "outputs": [
    {
     "data": {
      "text/plain": [
       "array([0.4172973, 0.5827027])"
      ]
     },
     "execution_count": 14,
     "metadata": {},
     "output_type": "execute_result"
    }
   ],
   "source": [
    "zz1"
   ]
  },
  {
   "cell_type": "code",
   "execution_count": 15,
   "metadata": {},
   "outputs": [
    {
     "data": {
      "text/plain": [
       "[42.32, 58.560001]"
      ]
     },
     "execution_count": 15,
     "metadata": {},
     "output_type": "execute_result"
    }
   ],
   "source": [
    "zz2"
   ]
  },
  {
   "cell_type": "code",
   "execution_count": 38,
   "metadata": {},
   "outputs": [
    {
     "data": {
      "text/plain": [
       "4"
      ]
     },
     "execution_count": 38,
     "metadata": {},
     "output_type": "execute_result"
    }
   ],
   "source": [
    "i"
   ]
  },
  {
   "cell_type": "code",
   "execution_count": 28,
   "metadata": {},
   "outputs": [],
   "source": []
  },
  {
   "cell_type": "code",
   "execution_count": 74,
   "metadata": {},
   "outputs": [
    {
     "data": {
      "text/plain": [
       "1968.880017"
      ]
     },
     "execution_count": 74,
     "metadata": {},
     "output_type": "execute_result"
    }
   ],
   "source": [
    "np.array(data['constraint_coeffs'][3])@np.array(sol)"
   ]
  },
  {
   "cell_type": "code",
   "execution_count": 30,
   "metadata": {},
   "outputs": [
    {
     "data": {
      "text/plain": [
       "38.469596078650774"
      ]
     },
     "execution_count": 30,
     "metadata": {},
     "output_type": "execute_result"
    }
   ],
   "source": [
    " 100*S_T2/(S_T2+S_U2)"
   ]
  },
  {
   "cell_type": "code",
   "execution_count": 25,
   "metadata": {},
   "outputs": [
    {
     "data": {
      "text/plain": [
       "100.0"
      ]
     },
     "execution_count": 25,
     "metadata": {},
     "output_type": "execute_result"
    }
   ],
   "source": [
    "S"
   ]
  },
  {
   "cell_type": "code",
   "execution_count": 28,
   "metadata": {},
   "outputs": [
    {
     "data": {
      "text/plain": [
       "-557.269148518058"
      ]
     },
     "execution_count": 28,
     "metadata": {},
     "output_type": "execute_result"
    }
   ],
   "source": [
    "current_prices[0]*x[0].solution_value()-(alpha[0]/alpha[1])*current_prices[1]*x[1].solution_value()"
   ]
  },
  {
   "cell_type": "code",
   "execution_count": 30,
   "metadata": {},
   "outputs": [
    {
     "data": {
      "text/plain": [
       "921.4808514819424"
      ]
     },
     "execution_count": 30,
     "metadata": {},
     "output_type": "execute_result"
    }
   ],
   "source": [
    "current_prices[1]*x[0].solution_value()-(alpha[0]/alpha[1])*current_prices[1]*x[1].solution_value()"
   ]
  },
  {
   "cell_type": "code",
   "execution_count": 24,
   "metadata": {},
   "outputs": [
    {
     "data": {
      "text/plain": [
       "{'constraint_coeffs': [[42.32, -42.52281782078984, 42.32, -42.52281782078984],\n",
       "  [42.32, -41.35161780078984, 42.32, -41.35161780078984],\n",
       "  [42.32, 58.560001, 42.32, 58.560001],\n",
       "  [42.32, 58.560001, 0, 0],\n",
       "  [0, 0, 42.32, 58.560001]],\n",
       " 'lb': [-inf, 0, 0, 0, 0],\n",
       " 'ub': [0, inf, 100.0, 0.0, 100.0],\n",
       " 'obj_coeffs': [42.32, 58.560001, 42.32, 58.560001],\n",
       " 'xub': [0.0, 0.0, 2.0, 1.0],\n",
       " 'num_vars': 4,\n",
       " 'num_constraints': 5}"
      ]
     },
     "execution_count": 24,
     "metadata": {},
     "output_type": "execute_result"
    }
   ],
   "source": [
    "data"
   ]
  },
  {
   "cell_type": "code",
   "execution_count": 32,
   "metadata": {},
   "outputs": [],
   "source": [
    "x0=np.floor(S*alpha[0]/current_prices[0])"
   ]
  },
  {
   "cell_type": "code",
   "execution_count": 33,
   "metadata": {},
   "outputs": [],
   "source": [
    "x1=np.floor(S*alpha[1]/current_prices[1])"
   ]
  },
  {
   "cell_type": "code",
   "execution_count": 168,
   "metadata": {},
   "outputs": [
    {
     "data": {
      "text/plain": [
       "9949.510197"
      ]
     },
     "execution_count": 168,
     "metadata": {},
     "output_type": "execute_result"
    }
   ],
   "source": [
    "np.floor(S*alpha[0]/current_prices[0])*current_prices[0]+np.floor(S*alpha[1]/current_prices[1])*current_prices[1]"
   ]
  },
  {
   "cell_type": "code",
   "execution_count": 169,
   "metadata": {},
   "outputs": [
    {
     "data": {
      "text/plain": [
       "4179.7800990000005"
      ]
     },
     "execution_count": 169,
     "metadata": {},
     "output_type": "execute_result"
    }
   ],
   "source": [
    "x0*current_prices[0]"
   ]
  },
  {
   "cell_type": "code",
   "execution_count": 170,
   "metadata": {},
   "outputs": [
    {
     "data": {
      "text/plain": [
       "5769.730098"
      ]
     },
     "execution_count": 170,
     "metadata": {},
     "output_type": "execute_result"
    }
   ],
   "source": [
    "(x1)*current_prices[1]"
   ]
  },
  {
   "cell_type": "code",
   "execution_count": 173,
   "metadata": {},
   "outputs": [
    {
     "data": {
      "text/plain": [
       "9949.510197"
      ]
     },
     "execution_count": 173,
     "metadata": {},
     "output_type": "execute_result"
    }
   ],
   "source": [
    "x0*current_prices[0]+(x1)*current_prices[1]"
   ]
  },
  {
   "cell_type": "code",
   "execution_count": 172,
   "metadata": {},
   "outputs": [
    {
     "data": {
      "text/plain": [
       "10010.0"
      ]
     },
     "execution_count": 172,
     "metadata": {},
     "output_type": "execute_result"
    }
   ],
   "source": [
    "S"
   ]
  },
  {
   "cell_type": "code",
   "execution_count": 176,
   "metadata": {},
   "outputs": [
    {
     "data": {
      "text/plain": [
       "99.78336408601366"
      ]
     },
     "execution_count": 176,
     "metadata": {},
     "output_type": "execute_result"
    }
   ],
   "source": [
    "10000*alpha[1]/current_prices[1]"
   ]
  },
  {
   "cell_type": "code",
   "execution_count": 34,
   "metadata": {},
   "outputs": [
    {
     "data": {
      "text/plain": [
       "98.0"
      ]
     },
     "execution_count": 34,
     "metadata": {},
     "output_type": "execute_result"
    }
   ],
   "source": [
    "x0"
   ]
  },
  {
   "cell_type": "code",
   "execution_count": 35,
   "metadata": {},
   "outputs": [
    {
     "data": {
      "text/plain": [
       "99.0"
      ]
     },
     "execution_count": 35,
     "metadata": {},
     "output_type": "execute_result"
    }
   ],
   "source": [
    "x1"
   ]
  },
  {
   "cell_type": "code",
   "execution_count": null,
   "metadata": {},
   "outputs": [],
   "source": []
  }
 ],
 "metadata": {
  "kernelspec": {
   "display_name": "Python 3",
   "language": "python",
   "name": "python3"
  },
  "language_info": {
   "codemirror_mode": {
    "name": "ipython",
    "version": 3
   },
   "file_extension": ".py",
   "mimetype": "text/x-python",
   "name": "python",
   "nbconvert_exporter": "python",
   "pygments_lexer": "ipython3",
   "version": "3.7.6"
  }
 },
 "nbformat": 4,
 "nbformat_minor": 4
}
